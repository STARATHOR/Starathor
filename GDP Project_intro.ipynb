{
 "cells": [
  {
   "cell_type": "code",
   "execution_count": 136,
   "metadata": {
    "tags": []
   },
   "outputs": [
    {
     "data": {
      "text/plain": [
       "array([[\"'Algeria'\", 2255.225482],\n",
       "       [\"'Angola'\", 629.9553062],\n",
       "       [\"'Argentina'\", 11601.63022],\n",
       "       [\"'Australia'\", 25306.82494],\n",
       "       [\"'Austria'\", 27266.40335],\n",
       "       [\"'Bahamas'\", 19466.99052],\n",
       "       [\"'Bangladesh'\", 588.3691778],\n",
       "       [\"'Belarus'\", 2890.345675],\n",
       "       [\"'Belgium'\", 24733.62696],\n",
       "       [\"'Bhutan'\", 1445.760002],\n",
       "       [\"'Brazil'\", 4803.398244],\n",
       "       [\"'Bulgaria'\", 2618.876037],\n",
       "       [\"'Cambodia'\", 590.4521124],\n",
       "       [\"'Cameroon'\", 665.7982328],\n",
       "       [\"'Chile'\", 7122.938458],\n",
       "       [\"'China'\", 2639.54156],\n",
       "       [\"'Colombia'\", 3362.4656],\n",
       "       [\"'Cyprus'\", 15378.16704],\n",
       "       [\"'Denmark'\", 30860.12808],\n",
       "       [\"'El Salvador'\", 2579.115607],\n",
       "       [\"'Estonia'\", 6525.541272],\n",
       "       [\"'Ethiopia'\", 229.6769525],\n",
       "       [\"'Fiji'\", 2242.689259],\n",
       "       [\"'Finland'\", 27570.4852],\n",
       "       [\"'France'\", 23016.84778],\n",
       "       [\"'Georgia'\", 1334.646773],\n",
       "       [\"'Ghana'\", 402.6953275],\n",
       "       [\"'Grenada'\", 6047.200797],\n",
       "       [\"'Guinea'\", 394.1156638],\n",
       "       [\"'Haiti'\", 385.5793827],\n",
       "       [\"'Honduras'\", 1414.072488],\n",
       "       [\"'Hungary'\", 5745.981529],\n",
       "       [\"'India'\", 837.7464011],\n",
       "       [\"'Indonesia'\", 1206.991065],\n",
       "       [\"'Ireland'\", 27715.52837],\n",
       "       [\"'Italy'\", 18937.24998],\n",
       "       [\"'Japan'\", 39578.07441],\n",
       "       [\"'Kenya'\", 478.2194906],\n",
       "       [\" 'South Korea'\", 16684.21278],\n",
       "       [\"'Liberia'\", 279.2204061],\n",
       "       [\"'Malaysia'\", 5345.213415],\n",
       "       [\"'Mexico'\", 6288.25324],\n",
       "       [\" 'Morocco'\", 1908.304416],\n",
       "       [\"'Nepal'\", 274.8728621],\n",
       "       [\"'New Zealand'\", 14646.42094],\n",
       "       [\"'Norway'\", 40034.85063],\n",
       "       [\"'Pakistan'\", 672.1547506],\n",
       "       [\" 'Peru'\", 3359.517402],\n",
       "       [\"'Qatar'\", 36152.66676],\n",
       "       [\"'Russia'\", 3054.727742],\n",
       "       [\"'Singapore'\", 33529.83052],\n",
       "       [\"'South Africa'\", 3825.093781],\n",
       "       [\"'Spain'\", 15428.32098],\n",
       "       [\"'Sweden'\", 33630.24604],\n",
       "       [\"'Switzerland'\", 39170.41371],\n",
       "       [\"'Thailand'\", 2699.123242],\n",
       "       [\" 'United Arab Emirates'\", 21058.43643],\n",
       "       [\"'United Kingdom'\", 28272.40661],\n",
       "       [\"'United States'\", 37691.02733],\n",
       "       [\"'Uruguay'\", 9581.05659],\n",
       "       [\"'Venezuela'\", 5671.912202],\n",
       "       [\"'Vietnam'\", 757.4009286],\n",
       "       [\"'Zimbabwe'\", 347.7456605]], dtype=object)"
      ]
     },
     "execution_count": 136,
     "metadata": {},
     "output_type": "execute_result"
    }
   ],
   "source": [
    "#Import required library\n",
    "import pandas as pd\n",
    "import numpy as np\n",
    "#csv_path = 'Countries with GDP.txt'\n",
    "#df = pd.DataFrame([[pd.read_csv(csv_path)], coloumns=[\"Country\", \"GDP\"]])\n",
    "#df.head()\n",
    "#df = df.dropna()\n",
    "list1 =[]\n",
    "with open ('Countries with GDP.txt') as f:  \n",
    "    for line in f:\n",
    "        list1.append(line.rstrip('\\n').split(','))\n",
    "dict1 = {'Countries' : list1[1], 'GDP' : list1[3]}\n",
    "df = pd.DataFrame(dict1)\n",
    "df['GDP'] = df.GDP.astype(float)\n",
    "np1 = pd.DataFrame.to_numpy(df)\n",
    "np1\n",
    "df.head()\n",
    "np1"
   ]
  },
  {
   "cell_type": "code",
   "execution_count": 138,
   "metadata": {
    "tags": []
   },
   "outputs": [
    {
     "data": {
      "text/plain": [
       "63"
      ]
     },
     "execution_count": 138,
     "metadata": {},
     "output_type": "execute_result"
    }
   ],
   "source": [
    "#Manually add the dataset\n",
    "len(np1)\n"
   ]
  },
  {
   "cell_type": "code",
   "execution_count": 37,
   "metadata": {
    "collapsed": false,
    "jupyter": {
     "outputs_hidden": false
    }
   },
   "outputs": [
    {
     "data": {
      "text/plain": [
       "(59, 1)"
      ]
     },
     "execution_count": 37,
     "metadata": {},
     "output_type": "execute_result"
    }
   ],
   "source": [
    "#Use the argmax() method to find the highest GDP\n",
    "\n",
    "k = np.argmax(np1)\n",
    "np.unravel_index(k, np1.shape)\n",
    "\n"
   ]
  },
  {
   "cell_type": "code",
   "execution_count": 79,
   "metadata": {
    "tags": []
   },
   "outputs": [
    {
     "data": {
      "text/plain": [
       "'9581.05659'"
      ]
     },
     "execution_count": 79,
     "metadata": {},
     "output_type": "execute_result"
    }
   ],
   "source": [
    "#Print the name of the country\n",
    "x = np1[59, 1]\n",
    "np1[59, 0]\n"
   ]
  },
  {
   "cell_type": "code",
   "execution_count": 40,
   "metadata": {
    "tags": []
   },
   "outputs": [
    {
     "data": {
      "text/plain": [
       "(42, 0)"
      ]
     },
     "execution_count": 40,
     "metadata": {},
     "output_type": "execute_result"
    }
   ],
   "source": [
    "#Use the argmin() method to find the lowest GDP\n",
    "j = np.argmin(np1)\n",
    "np.unravel_index(j, np1.shape)"
   ]
  },
  {
   "cell_type": "code",
   "execution_count": 85,
   "metadata": {
    "tags": []
   },
   "outputs": [
    {
     "data": {
      "text/plain": [
       "'1908.304416'"
      ]
     },
     "execution_count": 85,
     "metadata": {},
     "output_type": "execute_result"
    }
   ],
   "source": [
    "#Print the name of the country\n",
    "v = np1[42, 1]\n",
    "np1[42, 0]\n",
    "v"
   ]
  },
  {
   "cell_type": "code",
   "execution_count": 45,
   "metadata": {
    "collapsed": false,
    "jupyter": {
     "outputs_hidden": false
    }
   },
   "outputs": [
    {
     "name": "stdout",
     "output_type": "stream",
     "text": [
      "evaluating country  'Morocco'\n"
     ]
    }
   ],
   "source": [
    "#Use a for loop to print the required output\n",
    "print(\"evaluating country\", np1[42,0])"
   ]
  },
  {
   "cell_type": "code",
   "execution_count": 137,
   "metadata": {
    "collapsed": false,
    "jupyter": {
     "outputs_hidden": false
    }
   },
   "outputs": [
    {
     "name": "stdout",
     "output_type": "stream",
     "text": [
      "[\"'Algeria'\" 2255.225482]\n",
      "[\"'Angola'\" 629.9553062]\n",
      "[\"'Algeria'\" 2255.225482]\n",
      "[\"'Angola'\" 629.9553062]\n",
      "[\"'Algeria'\" 2255.225482]\n",
      "[\"'Angola'\" 629.9553062]\n",
      "[\"'Algeria'\" 2255.225482]\n",
      "[\"'Angola'\" 629.9553062]\n",
      "[\"'Algeria'\" 2255.225482]\n",
      "[\"'Angola'\" 629.9553062]\n",
      "[\"'Algeria'\" 2255.225482]\n",
      "[\"'Angola'\" 629.9553062]\n",
      "[\"'Algeria'\" 2255.225482]\n",
      "[\"'Angola'\" 629.9553062]\n",
      "[\"'Algeria'\" 2255.225482]\n",
      "[\"'Angola'\" 629.9553062]\n",
      "[\"'Algeria'\" 2255.225482]\n",
      "[\"'Angola'\" 629.9553062]\n",
      "[\"'Algeria'\" 2255.225482]\n",
      "[\"'Angola'\" 629.9553062]\n",
      "[\"'Algeria'\" 2255.225482]\n",
      "[\"'Angola'\" 629.9553062]\n",
      "[\"'Algeria'\" 2255.225482]\n",
      "[\"'Angola'\" 629.9553062]\n",
      "[\"'Algeria'\" 2255.225482]\n",
      "[\"'Angola'\" 629.9553062]\n",
      "[\"'Algeria'\" 2255.225482]\n",
      "[\"'Angola'\" 629.9553062]\n",
      "[\"'Algeria'\" 2255.225482]\n",
      "[\"'Angola'\" 629.9553062]\n",
      "[\"'Algeria'\" 2255.225482]\n",
      "[\"'Angola'\" 629.9553062]\n",
      "[\"'Algeria'\" 2255.225482]\n",
      "[\"'Angola'\" 629.9553062]\n",
      "[\"'Algeria'\" 2255.225482]\n",
      "[\"'Angola'\" 629.9553062]\n",
      "[\"'Algeria'\" 2255.225482]\n",
      "[\"'Angola'\" 629.9553062]\n",
      "[\"'Algeria'\" 2255.225482]\n",
      "[\"'Angola'\" 629.9553062]\n",
      "[\"'Algeria'\" 2255.225482]\n",
      "[\"'Angola'\" 629.9553062]\n",
      "[\"'Algeria'\" 2255.225482]\n",
      "[\"'Angola'\" 629.9553062]\n",
      "[\"'Algeria'\" 2255.225482]\n",
      "[\"'Angola'\" 629.9553062]\n",
      "[\"'Algeria'\" 2255.225482]\n",
      "[\"'Angola'\" 629.9553062]\n",
      "[\"'Algeria'\" 2255.225482]\n",
      "[\"'Angola'\" 629.9553062]\n",
      "[\"'Algeria'\" 2255.225482]\n",
      "[\"'Angola'\" 629.9553062]\n",
      "[\"'Algeria'\" 2255.225482]\n",
      "[\"'Angola'\" 629.9553062]\n",
      "[\"'Algeria'\" 2255.225482]\n",
      "[\"'Angola'\" 629.9553062]\n",
      "[\"'Algeria'\" 2255.225482]\n",
      "[\"'Angola'\" 629.9553062]\n",
      "[\"'Algeria'\" 2255.225482]\n",
      "[\"'Angola'\" 629.9553062]\n",
      "[\"'Algeria'\" 2255.225482]\n",
      "[\"'Angola'\" 629.9553062]\n",
      "[\"'Algeria'\" 2255.225482]\n",
      "[\"'Angola'\" 629.9553062]\n",
      "[\"'Algeria'\" 2255.225482]\n",
      "[\"'Angola'\" 629.9553062]\n",
      "[\"'Algeria'\" 2255.225482]\n",
      "[\"'Angola'\" 629.9553062]\n",
      "[\"'Algeria'\" 2255.225482]\n",
      "[\"'Angola'\" 629.9553062]\n",
      "[\"'Algeria'\" 2255.225482]\n",
      "[\"'Angola'\" 629.9553062]\n",
      "[\"'Algeria'\" 2255.225482]\n",
      "[\"'Angola'\" 629.9553062]\n",
      "[\"'Algeria'\" 2255.225482]\n",
      "[\"'Angola'\" 629.9553062]\n",
      "[\"'Algeria'\" 2255.225482]\n",
      "[\"'Angola'\" 629.9553062]\n",
      "[\"'Algeria'\" 2255.225482]\n",
      "[\"'Angola'\" 629.9553062]\n",
      "[\"'Algeria'\" 2255.225482]\n",
      "[\"'Angola'\" 629.9553062]\n",
      "[\"'Algeria'\" 2255.225482]\n",
      "[\"'Angola'\" 629.9553062]\n",
      "[\"'Algeria'\" 2255.225482]\n",
      "[\"'Angola'\" 629.9553062]\n",
      "[\"'Algeria'\" 2255.225482]\n",
      "[\"'Angola'\" 629.9553062]\n",
      "[\"'Algeria'\" 2255.225482]\n",
      "[\"'Angola'\" 629.9553062]\n",
      "[\"'Algeria'\" 2255.225482]\n",
      "[\"'Angola'\" 629.9553062]\n",
      "[\"'Algeria'\" 2255.225482]\n",
      "[\"'Angola'\" 629.9553062]\n",
      "[\"'Algeria'\" 2255.225482]\n",
      "[\"'Angola'\" 629.9553062]\n",
      "[\"'Algeria'\" 2255.225482]\n",
      "[\"'Angola'\" 629.9553062]\n",
      "[\"'Algeria'\" 2255.225482]\n",
      "[\"'Angola'\" 629.9553062]\n",
      "[\"'Algeria'\" 2255.225482]\n",
      "[\"'Angola'\" 629.9553062]\n",
      "[\"'Algeria'\" 2255.225482]\n",
      "[\"'Angola'\" 629.9553062]\n",
      "[\"'Algeria'\" 2255.225482]\n",
      "[\"'Angola'\" 629.9553062]\n",
      "[\"'Algeria'\" 2255.225482]\n",
      "[\"'Angola'\" 629.9553062]\n",
      "[\"'Algeria'\" 2255.225482]\n",
      "[\"'Angola'\" 629.9553062]\n",
      "[\"'Algeria'\" 2255.225482]\n",
      "[\"'Angola'\" 629.9553062]\n",
      "[\"'Algeria'\" 2255.225482]\n",
      "[\"'Angola'\" 629.9553062]\n",
      "[\"'Algeria'\" 2255.225482]\n",
      "[\"'Angola'\" 629.9553062]\n",
      "[\"'Algeria'\" 2255.225482]\n",
      "[\"'Angola'\" 629.9553062]\n",
      "[\"'Algeria'\" 2255.225482]\n",
      "[\"'Angola'\" 629.9553062]\n",
      "[\"'Algeria'\" 2255.225482]\n",
      "[\"'Angola'\" 629.9553062]\n",
      "[\"'Algeria'\" 2255.225482]\n",
      "[\"'Angola'\" 629.9553062]\n",
      "[\"'Algeria'\" 2255.225482]\n",
      "[\"'Angola'\" 629.9553062]\n"
     ]
    }
   ],
   "source": [
    "#Use a for loop to print the required list\n",
    "len(np1)\n",
    "for i in range(63):\n",
    "    for j in range(2):\n",
    "        print(np1[j])"
   ]
  },
  {
   "cell_type": "code",
   "execution_count": 188,
   "metadata": {
    "tags": []
   },
   "outputs": [
    {
     "name": "stdout",
     "output_type": "stream",
     "text": [
      "Highest GDP Value 45 \n",
      " Lowest GDP Value 21 \n",
      " Mean 11289.409271639684 \n",
      " Standardized GDP Value 12743.828910617945 \n",
      " Sum of all the GDPs 711232.7841133001\n"
     ]
    }
   ],
   "source": [
    "n = len(np1)\n",
    "t = 0.00\n",
    "ar = []\n",
    "for i in range(n):\n",
    "    t = t + np1[i,1]\n",
    "    \n",
    "for j in range(n):\n",
    "    ar.append(np1[j,1])\n",
    "    \n",
    "\n",
    "        \n",
    "Sum = t\n",
    "mean = Sum/n\n",
    "ar\n",
    "Standard_dev = np.std(ar)\n",
    "Standard_dev\n",
    "print(\"Highest GDP Value\", np.argmax(ar), \"\\n\", \"Lowest GDP Value\", np.argmin(ar), \"\\n\", \"Mean\", mean, \"\\n\", \"Standardized GDP Value\", Standard_dev, \"\\n\", \"Sum of all the GDPs\", Sum)\n",
    "\n",
    "\n",
    "    "
   ]
  },
  {
   "cell_type": "code",
   "execution_count": null,
   "metadata": {},
   "outputs": [],
   "source": []
  }
 ],
 "metadata": {
  "kernelspec": {
   "display_name": "Python 3",
   "language": "python",
   "name": "python3"
  },
  "language_info": {
   "codemirror_mode": {
    "name": "ipython",
    "version": 3
   },
   "file_extension": ".py",
   "mimetype": "text/x-python",
   "name": "python",
   "nbconvert_exporter": "python",
   "pygments_lexer": "ipython3",
   "version": "3.7.6"
  }
 },
 "nbformat": 4,
 "nbformat_minor": 4
}
