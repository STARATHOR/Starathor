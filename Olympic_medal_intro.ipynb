{
 "cells": [
  {
   "cell_type": "markdown",
   "metadata": {},
   "source": [
    "<img src=\"http://cfs22.simplicdn.net/ice9/new_logo.svgz \"/>\n",
    "\n",
    "# Assignment 02: Evaluate the Summer Olympics, London 2012 dataset\n",
    "\n",
    "*The comments/sections provided are your cues to perform the assignment. You don't need to limit yourself to the number of rows/cells provided. You can add additional rows in each section to add more lines of code.*\n",
    "\n",
    "*If at any point in time you need help on solving this assignment, view our demo video to understand the different steps of the code.*\n",
    "\n",
    "**Happy coding!**\n",
    "\n",
    "* * *"
   ]
  },
  {
   "cell_type": "markdown",
   "metadata": {},
   "source": [
    "#### 1: View and add the dataset"
   ]
  },
  {
   "cell_type": "code",
   "execution_count": 1,
   "metadata": {
    "tags": []
   },
   "outputs": [
    {
     "data": {
      "text/plain": [
       "array([['China ', 'Russia', 'United States', 'Korea', 'Japan', 'Germany'],\n",
       "       ['CHN', 'RUS', 'US', 'KOR', 'JPN', 'GER'],\n",
       "       [2012, 2012, 2012, 2012, 2012, 2012],\n",
       "       [38, 24, 46, 13, 7, 11],\n",
       "       [28, 25, 28, 8, 14, 11],\n",
       "       [22, 32, 29, 7, 17, 14]], dtype=object)"
      ]
     },
     "execution_count": 1,
     "metadata": {},
     "output_type": "execute_result"
    }
   ],
   "source": [
    "#Import the necessary library\n",
    "import pandas as pd\n",
    "import numpy as np\n",
    "#csv_path = 'Countries with GDP.txt'\n",
    "#df = pd.DataFrame([[pd.read_csv(csv_path)], coloumns=[\"Country\", \"GDP\"]])\n",
    "#df.head()\n",
    "#df = df.dropna()\n",
    "#list1 = [] \n",
    "#with open ('Olympic 2012 Medal Tally.txt') as f:  \n",
    " #   for line in f:\n",
    "  #          list1.append(line.rstrip('\\n').split(' '))\n",
    "       \n",
    "   # print(list1)        \n",
    "#dict10 = {'Gold' : list1[4], 'Silver' : list1[5], 'Bronze' : list1[6]}\n",
    "#dict1 = {'Countries' : list1[1], 'Country Code' : list1[2], 'Year' : list1[3], 'Medal Tally': dict10 }\n",
    "#df = pd.DataFrame(dict1)\n",
    "#df\n",
    "dfs = pd.read_excel('Olympic 2012 Medal Tally2.xlsx')\n",
    "type(dfs)\n",
    "#df = dfs.dropna()\n",
    "\n",
    "#np1 = pd.DataFrame.to_numpy(dfs)\n",
    "np1 = np.array(dfs)\n",
    "#np1 = np1.dropna()\n",
    "#dfs.head()\n",
    "\n",
    "#np1 = np1[:, ~np.isnan(np1).any(axis=0)]\n",
    "np1\n",
    "np.shape(np1)\n",
    "#np1 = np1.tolist()\n",
    "\n",
    "np2 = np1.T\n",
    "np2\n",
    "#np2 = np2.tolist()\n",
    "#np2\n",
    "np2\n",
    "\n"
   ]
  },
  {
   "cell_type": "code",
   "execution_count": 2,
   "metadata": {},
   "outputs": [],
   "source": [
    "#Manually add the Summer Olympics, London 2012 dataset as arrays\n"
   ]
  },
  {
   "cell_type": "markdown",
   "metadata": {},
   "source": [
    "#### Find the country with maximum gold medals"
   ]
  },
  {
   "cell_type": "code",
   "execution_count": 3,
   "metadata": {
    "tags": []
   },
   "outputs": [
    {
     "data": {
      "text/plain": [
       "'United States'"
      ]
     },
     "execution_count": 3,
     "metadata": {},
     "output_type": "execute_result"
    }
   ],
   "source": [
    "#Use the argmax() method to find the highest number of gold medals\n",
    "Gold = np2[3]\n",
    "Silver = np2[4]\n",
    "Bronze = np2[5]\n",
    "CC = np2[1]\n",
    "Year = np2[2]\n",
    "\n",
    "x = np.argmax(Gold)\n",
    "x\n",
    "Gold[2]\n",
    "Country = np2[0]\n",
    "Country\n",
    "\n",
    "Country[2]\n",
    "\n",
    "\n",
    "#np.unravel_index(x, np2.shape)\n",
    "    "
   ]
  },
  {
   "cell_type": "code",
   "execution_count": 4,
   "metadata": {
    "collapsed": false,
    "jupyter": {
     "outputs_hidden": false
    }
   },
   "outputs": [
    {
     "data": {
      "text/plain": [
       "46"
      ]
     },
     "execution_count": 4,
     "metadata": {},
     "output_type": "execute_result"
    }
   ],
   "source": [
    "Gold[2]\n"
   ]
  },
  {
   "cell_type": "markdown",
   "metadata": {},
   "source": [
    "#### Find the countries with more than 20 gold medals"
   ]
  },
  {
   "cell_type": "code",
   "execution_count": 5,
   "metadata": {
    "collapsed": false,
    "jupyter": {
     "outputs_hidden": false
    }
   },
   "outputs": [
    {
     "data": {
      "text/plain": [
       "['China ', 'Russia', 'United States']"
      ]
     },
     "execution_count": 5,
     "metadata": {},
     "output_type": "execute_result"
    }
   ],
   "source": [
    "#Use Boolean indexing technique to find the required output\n",
    "n = len(Gold)\n",
    "\n",
    "n\n",
    "Coun_Gold = np.zeros(6)\n",
    "for i in range(n):\n",
    "    if Gold[i] > 20:\n",
    "        Coun_Gold[i] = Gold[i]\n",
    "\n",
    "Coun_Gold\n",
    "Coun_Gold_C = [Country[0], Country[1], Country[2]]\n",
    "Coun_Gold_C\n",
    "        \n",
    "    "
   ]
  },
  {
   "cell_type": "markdown",
   "metadata": {},
   "source": [
    "#### Evaluate the dataset and print the name of each country with its gold medals and total number of medals"
   ]
  },
  {
   "cell_type": "code",
   "execution_count": 17,
   "metadata": {
    "collapsed": false,
    "jupyter": {
     "outputs_hidden": false
    }
   },
   "outputs": [
    {
     "name": "stdout",
     "output_type": "stream",
     "text": [
      "China  \t Golds: 38 \t Total Medals: [88]\n",
      "Russia \t Golds: 24 \t Total Medals: [88]\n",
      "United States \t Golds: 46 \t Total Medals: [88]\n",
      "Korea \t Golds: 13 \t Total Medals: [88]\n",
      "Japan \t Golds: 7 \t Total Medals: [88]\n",
      "Germany \t Golds: 11 \t Total Medals: [88]\n"
     ]
    }
   ],
   "source": [
    "#Use a for loop to create the required output\n",
    "def Sum_Medal(name):\n",
    "    for c in Country:    \n",
    "        if name==c:\n",
    "            j = np.where(c)\n",
    "            sum_m = Gold[j] + Silver[j] + Bronze[j]\n",
    "            sum_m_int = int(sum_m)\n",
    "            return sum_m\n",
    "\n",
    "Sum_Medal('Russia')\n",
    "\n",
    "for i in range(6):\n",
    "    print(Country[i], '\\t', 'Golds:', Gold[i], '\\t', \"Total Medals:\", Sum_Medal(Country[i]))\n",
    "\n",
    "\n",
    "\n",
    "        "
   ]
  },
  {
   "cell_type": "code",
   "execution_count": null,
   "metadata": {},
   "outputs": [],
   "source": []
  }
 ],
 "metadata": {
  "kernelspec": {
   "display_name": "Python 3",
   "language": "python",
   "name": "python3"
  },
  "language_info": {
   "codemirror_mode": {
    "name": "ipython",
    "version": 3
   },
   "file_extension": ".py",
   "mimetype": "text/x-python",
   "name": "python",
   "nbconvert_exporter": "python",
   "pygments_lexer": "ipython3",
   "version": "3.7.6"
  }
 },
 "nbformat": 4,
 "nbformat_minor": 4
}
